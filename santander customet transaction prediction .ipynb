{
 "cells": [
  {
   "cell_type": "code",
   "execution_count": 1,
   "metadata": {
    "collapsed": true
   },
   "outputs": [],
   "source": [
    "import numpy as np # linear algebra \n",
    "import pandas as pd # data processing, CSV file I/O (e.g. pd.read_csv) \n",
    "%matplotlib inline \n",
    "import matplotlib.pyplot as plt  # Matlab-style plotting \n",
    "import seaborn as sns \n",
    "color = sns.color_palette() \n",
    "import warnings \n",
    "warnings.filterwarnings('ignore') #Supress unnecessary warnings for readabilit y and cleaner presentation \n",
    "pd.set_option('display.float_format', lambda x: '%.3f' % x) #Limiting floats o utput to 3 decimal points \n",
    " "
   ]
  },
  {
   "cell_type": "code",
   "execution_count": 2,
   "metadata": {
    "collapsed": false
   },
   "outputs": [
    {
     "data": {
      "text/html": [
       "<div>\n",
       "<style scoped>\n",
       "    .dataframe tbody tr th:only-of-type {\n",
       "        vertical-align: middle;\n",
       "    }\n",
       "\n",
       "    .dataframe tbody tr th {\n",
       "        vertical-align: top;\n",
       "    }\n",
       "\n",
       "    .dataframe thead th {\n",
       "        text-align: right;\n",
       "    }\n",
       "</style>\n",
       "<table border=\"1\" class=\"dataframe\">\n",
       "  <thead>\n",
       "    <tr style=\"text-align: right;\">\n",
       "      <th></th>\n",
       "      <th>ID_code</th>\n",
       "      <th>target</th>\n",
       "      <th>var_0</th>\n",
       "      <th>var_1</th>\n",
       "      <th>var_2</th>\n",
       "      <th>var_3</th>\n",
       "      <th>var_4</th>\n",
       "      <th>var_5</th>\n",
       "      <th>var_6</th>\n",
       "      <th>var_7</th>\n",
       "      <th>...</th>\n",
       "      <th>var_190</th>\n",
       "      <th>var_191</th>\n",
       "      <th>var_192</th>\n",
       "      <th>var_193</th>\n",
       "      <th>var_194</th>\n",
       "      <th>var_195</th>\n",
       "      <th>var_196</th>\n",
       "      <th>var_197</th>\n",
       "      <th>var_198</th>\n",
       "      <th>var_199</th>\n",
       "    </tr>\n",
       "  </thead>\n",
       "  <tbody>\n",
       "    <tr>\n",
       "      <th>0</th>\n",
       "      <td>train_0</td>\n",
       "      <td>0</td>\n",
       "      <td>8.925</td>\n",
       "      <td>-6.786</td>\n",
       "      <td>11.908</td>\n",
       "      <td>5.093</td>\n",
       "      <td>11.461</td>\n",
       "      <td>-9.283</td>\n",
       "      <td>5.119</td>\n",
       "      <td>18.627</td>\n",
       "      <td>...</td>\n",
       "      <td>4.435</td>\n",
       "      <td>3.964</td>\n",
       "      <td>3.136</td>\n",
       "      <td>1.691</td>\n",
       "      <td>18.523</td>\n",
       "      <td>-2.398</td>\n",
       "      <td>7.878</td>\n",
       "      <td>8.563</td>\n",
       "      <td>12.780</td>\n",
       "      <td>-1.091</td>\n",
       "    </tr>\n",
       "    <tr>\n",
       "      <th>1</th>\n",
       "      <td>train_1</td>\n",
       "      <td>0</td>\n",
       "      <td>11.501</td>\n",
       "      <td>-4.147</td>\n",
       "      <td>13.859</td>\n",
       "      <td>5.389</td>\n",
       "      <td>12.362</td>\n",
       "      <td>7.043</td>\n",
       "      <td>5.621</td>\n",
       "      <td>16.534</td>\n",
       "      <td>...</td>\n",
       "      <td>7.642</td>\n",
       "      <td>7.721</td>\n",
       "      <td>2.584</td>\n",
       "      <td>10.952</td>\n",
       "      <td>15.431</td>\n",
       "      <td>2.034</td>\n",
       "      <td>8.127</td>\n",
       "      <td>8.789</td>\n",
       "      <td>18.356</td>\n",
       "      <td>1.952</td>\n",
       "    </tr>\n",
       "    <tr>\n",
       "      <th>2</th>\n",
       "      <td>train_2</td>\n",
       "      <td>0</td>\n",
       "      <td>8.609</td>\n",
       "      <td>-2.746</td>\n",
       "      <td>12.081</td>\n",
       "      <td>7.893</td>\n",
       "      <td>10.582</td>\n",
       "      <td>-9.084</td>\n",
       "      <td>6.943</td>\n",
       "      <td>14.616</td>\n",
       "      <td>...</td>\n",
       "      <td>2.906</td>\n",
       "      <td>9.790</td>\n",
       "      <td>1.670</td>\n",
       "      <td>1.686</td>\n",
       "      <td>21.604</td>\n",
       "      <td>3.142</td>\n",
       "      <td>-6.521</td>\n",
       "      <td>8.268</td>\n",
       "      <td>14.722</td>\n",
       "      <td>0.397</td>\n",
       "    </tr>\n",
       "    <tr>\n",
       "      <th>3</th>\n",
       "      <td>train_3</td>\n",
       "      <td>0</td>\n",
       "      <td>11.060</td>\n",
       "      <td>-2.152</td>\n",
       "      <td>8.952</td>\n",
       "      <td>7.196</td>\n",
       "      <td>12.585</td>\n",
       "      <td>-1.836</td>\n",
       "      <td>5.843</td>\n",
       "      <td>14.925</td>\n",
       "      <td>...</td>\n",
       "      <td>4.467</td>\n",
       "      <td>4.743</td>\n",
       "      <td>0.718</td>\n",
       "      <td>1.421</td>\n",
       "      <td>23.035</td>\n",
       "      <td>-1.271</td>\n",
       "      <td>-2.928</td>\n",
       "      <td>10.292</td>\n",
       "      <td>17.970</td>\n",
       "      <td>-9.000</td>\n",
       "    </tr>\n",
       "    <tr>\n",
       "      <th>4</th>\n",
       "      <td>train_4</td>\n",
       "      <td>0</td>\n",
       "      <td>9.837</td>\n",
       "      <td>-1.483</td>\n",
       "      <td>12.875</td>\n",
       "      <td>6.638</td>\n",
       "      <td>12.277</td>\n",
       "      <td>2.449</td>\n",
       "      <td>5.941</td>\n",
       "      <td>19.251</td>\n",
       "      <td>...</td>\n",
       "      <td>-1.490</td>\n",
       "      <td>9.521</td>\n",
       "      <td>-0.151</td>\n",
       "      <td>9.194</td>\n",
       "      <td>13.288</td>\n",
       "      <td>-1.512</td>\n",
       "      <td>3.927</td>\n",
       "      <td>9.503</td>\n",
       "      <td>17.997</td>\n",
       "      <td>-8.810</td>\n",
       "    </tr>\n",
       "  </tbody>\n",
       "</table>\n",
       "<p>5 rows × 202 columns</p>\n",
       "</div>"
      ],
      "text/plain": [
       "   ID_code  target  var_0  var_1  var_2  var_3  var_4  var_5  var_6  var_7  \\\n",
       "0  train_0       0  8.925 -6.786 11.908  5.093 11.461 -9.283  5.119 18.627   \n",
       "1  train_1       0 11.501 -4.147 13.859  5.389 12.362  7.043  5.621 16.534   \n",
       "2  train_2       0  8.609 -2.746 12.081  7.893 10.582 -9.084  6.943 14.616   \n",
       "3  train_3       0 11.060 -2.152  8.952  7.196 12.585 -1.836  5.843 14.925   \n",
       "4  train_4       0  9.837 -1.483 12.875  6.638 12.277  2.449  5.941 19.251   \n",
       "\n",
       "    ...     var_190  var_191  var_192  var_193  var_194  var_195  var_196  \\\n",
       "0   ...       4.435    3.964    3.136    1.691   18.523   -2.398    7.878   \n",
       "1   ...       7.642    7.721    2.584   10.952   15.431    2.034    8.127   \n",
       "2   ...       2.906    9.790    1.670    1.686   21.604    3.142   -6.521   \n",
       "3   ...       4.467    4.743    0.718    1.421   23.035   -1.271   -2.928   \n",
       "4   ...      -1.490    9.521   -0.151    9.194   13.288   -1.512    3.927   \n",
       "\n",
       "   var_197  var_198  var_199  \n",
       "0    8.563   12.780   -1.091  \n",
       "1    8.789   18.356    1.952  \n",
       "2    8.268   14.722    0.397  \n",
       "3   10.292   17.970   -9.000  \n",
       "4    9.503   17.997   -8.810  \n",
       "\n",
       "[5 rows x 202 columns]"
      ]
     },
     "execution_count": 2,
     "metadata": {},
     "output_type": "execute_result"
    }
   ],
   "source": [
    "train1 = pd.read_csv('C:\\\\Users\\\\Surya\\\\Desktop\\\\santander-customer-transaction-prediction\\\\train.csv') \n",
    "train1.head(5) "
   ]
  },
  {
   "cell_type": "code",
   "execution_count": 70,
   "metadata": {
    "collapsed": false
   },
   "outputs": [
    {
     "data": {
      "text/html": [
       "<div>\n",
       "<style scoped>\n",
       "    .dataframe tbody tr th:only-of-type {\n",
       "        vertical-align: middle;\n",
       "    }\n",
       "\n",
       "    .dataframe tbody tr th {\n",
       "        vertical-align: top;\n",
       "    }\n",
       "\n",
       "    .dataframe thead th {\n",
       "        text-align: right;\n",
       "    }\n",
       "</style>\n",
       "<table border=\"1\" class=\"dataframe\">\n",
       "  <thead>\n",
       "    <tr style=\"text-align: right;\">\n",
       "      <th></th>\n",
       "      <th>ID_code</th>\n",
       "      <th>target</th>\n",
       "      <th>var_0</th>\n",
       "      <th>var_1</th>\n",
       "      <th>var_2</th>\n",
       "      <th>var_3</th>\n",
       "      <th>var_4</th>\n",
       "      <th>var_5</th>\n",
       "      <th>var_6</th>\n",
       "      <th>var_7</th>\n",
       "      <th>...</th>\n",
       "      <th>var_190</th>\n",
       "      <th>var_191</th>\n",
       "      <th>var_192</th>\n",
       "      <th>var_193</th>\n",
       "      <th>var_194</th>\n",
       "      <th>var_195</th>\n",
       "      <th>var_196</th>\n",
       "      <th>var_197</th>\n",
       "      <th>var_198</th>\n",
       "      <th>var_199</th>\n",
       "    </tr>\n",
       "  </thead>\n",
       "  <tbody>\n",
       "    <tr>\n",
       "      <th>199995</th>\n",
       "      <td>train_199995</td>\n",
       "      <td>0</td>\n",
       "      <td>11.488</td>\n",
       "      <td>-0.496</td>\n",
       "      <td>8.262</td>\n",
       "      <td>3.514</td>\n",
       "      <td>10.340</td>\n",
       "      <td>11.608</td>\n",
       "      <td>5.671</td>\n",
       "      <td>15.152</td>\n",
       "      <td>...</td>\n",
       "      <td>6.141</td>\n",
       "      <td>13.230</td>\n",
       "      <td>3.990</td>\n",
       "      <td>0.939</td>\n",
       "      <td>18.025</td>\n",
       "      <td>-1.794</td>\n",
       "      <td>2.166</td>\n",
       "      <td>8.533</td>\n",
       "      <td>16.666</td>\n",
       "      <td>-17.866</td>\n",
       "    </tr>\n",
       "    <tr>\n",
       "      <th>199996</th>\n",
       "      <td>train_199996</td>\n",
       "      <td>0</td>\n",
       "      <td>4.915</td>\n",
       "      <td>-2.448</td>\n",
       "      <td>16.705</td>\n",
       "      <td>6.635</td>\n",
       "      <td>8.310</td>\n",
       "      <td>-10.563</td>\n",
       "      <td>5.880</td>\n",
       "      <td>21.594</td>\n",
       "      <td>...</td>\n",
       "      <td>4.961</td>\n",
       "      <td>4.655</td>\n",
       "      <td>0.700</td>\n",
       "      <td>1.834</td>\n",
       "      <td>22.272</td>\n",
       "      <td>1.734</td>\n",
       "      <td>-2.165</td>\n",
       "      <td>6.742</td>\n",
       "      <td>15.905</td>\n",
       "      <td>0.339</td>\n",
       "    </tr>\n",
       "    <tr>\n",
       "      <th>199997</th>\n",
       "      <td>train_199997</td>\n",
       "      <td>0</td>\n",
       "      <td>11.223</td>\n",
       "      <td>-5.052</td>\n",
       "      <td>10.513</td>\n",
       "      <td>5.646</td>\n",
       "      <td>9.341</td>\n",
       "      <td>-5.409</td>\n",
       "      <td>4.556</td>\n",
       "      <td>21.557</td>\n",
       "      <td>...</td>\n",
       "      <td>4.065</td>\n",
       "      <td>5.441</td>\n",
       "      <td>3.103</td>\n",
       "      <td>4.879</td>\n",
       "      <td>23.531</td>\n",
       "      <td>-1.574</td>\n",
       "      <td>1.283</td>\n",
       "      <td>8.716</td>\n",
       "      <td>13.833</td>\n",
       "      <td>4.199</td>\n",
       "    </tr>\n",
       "    <tr>\n",
       "      <th>199998</th>\n",
       "      <td>train_199998</td>\n",
       "      <td>0</td>\n",
       "      <td>9.715</td>\n",
       "      <td>-8.610</td>\n",
       "      <td>13.610</td>\n",
       "      <td>5.793</td>\n",
       "      <td>12.517</td>\n",
       "      <td>0.534</td>\n",
       "      <td>6.048</td>\n",
       "      <td>17.015</td>\n",
       "      <td>...</td>\n",
       "      <td>2.684</td>\n",
       "      <td>8.659</td>\n",
       "      <td>2.734</td>\n",
       "      <td>11.118</td>\n",
       "      <td>20.416</td>\n",
       "      <td>-0.079</td>\n",
       "      <td>6.798</td>\n",
       "      <td>10.034</td>\n",
       "      <td>15.529</td>\n",
       "      <td>-13.900</td>\n",
       "    </tr>\n",
       "    <tr>\n",
       "      <th>199999</th>\n",
       "      <td>train_199999</td>\n",
       "      <td>0</td>\n",
       "      <td>10.876</td>\n",
       "      <td>-5.710</td>\n",
       "      <td>12.118</td>\n",
       "      <td>8.033</td>\n",
       "      <td>11.558</td>\n",
       "      <td>0.349</td>\n",
       "      <td>5.284</td>\n",
       "      <td>15.206</td>\n",
       "      <td>...</td>\n",
       "      <td>8.984</td>\n",
       "      <td>1.689</td>\n",
       "      <td>0.128</td>\n",
       "      <td>0.377</td>\n",
       "      <td>15.210</td>\n",
       "      <td>-2.491</td>\n",
       "      <td>-2.234</td>\n",
       "      <td>8.186</td>\n",
       "      <td>12.128</td>\n",
       "      <td>0.139</td>\n",
       "    </tr>\n",
       "  </tbody>\n",
       "</table>\n",
       "<p>5 rows × 202 columns</p>\n",
       "</div>"
      ],
      "text/plain": [
       "             ID_code  target  var_0  var_1  var_2  var_3  var_4   var_5  \\\n",
       "199995  train_199995       0 11.488 -0.496  8.262  3.514 10.340  11.608   \n",
       "199996  train_199996       0  4.915 -2.448 16.705  6.635  8.310 -10.563   \n",
       "199997  train_199997       0 11.223 -5.052 10.513  5.646  9.341  -5.409   \n",
       "199998  train_199998       0  9.715 -8.610 13.610  5.793 12.517   0.534   \n",
       "199999  train_199999       0 10.876 -5.710 12.118  8.033 11.558   0.349   \n",
       "\n",
       "        var_6  var_7   ...     var_190  var_191  var_192  var_193  var_194  \\\n",
       "199995  5.671 15.152   ...       6.141   13.230    3.990    0.939   18.025   \n",
       "199996  5.880 21.594   ...       4.961    4.655    0.700    1.834   22.272   \n",
       "199997  4.556 21.557   ...       4.065    5.441    3.103    4.879   23.531   \n",
       "199998  6.048 17.015   ...       2.684    8.659    2.734   11.118   20.416   \n",
       "199999  5.284 15.206   ...       8.984    1.689    0.128    0.377   15.210   \n",
       "\n",
       "        var_195  var_196  var_197  var_198  var_199  \n",
       "199995   -1.794    2.166    8.533   16.666  -17.866  \n",
       "199996    1.734   -2.165    6.742   15.905    0.339  \n",
       "199997   -1.574    1.283    8.716   13.833    4.199  \n",
       "199998   -0.079    6.798   10.034   15.529  -13.900  \n",
       "199999   -2.491   -2.234    8.186   12.128    0.139  \n",
       "\n",
       "[5 rows x 202 columns]"
      ]
     },
     "execution_count": 70,
     "metadata": {},
     "output_type": "execute_result"
    }
   ],
   "source": [
    "train1.tail(5)"
   ]
  },
  {
   "cell_type": "code",
   "execution_count": 3,
   "metadata": {
    "collapsed": false
   },
   "outputs": [
    {
     "data": {
      "text/html": [
       "<div>\n",
       "<style scoped>\n",
       "    .dataframe tbody tr th:only-of-type {\n",
       "        vertical-align: middle;\n",
       "    }\n",
       "\n",
       "    .dataframe tbody tr th {\n",
       "        vertical-align: top;\n",
       "    }\n",
       "\n",
       "    .dataframe thead th {\n",
       "        text-align: right;\n",
       "    }\n",
       "</style>\n",
       "<table border=\"1\" class=\"dataframe\">\n",
       "  <thead>\n",
       "    <tr style=\"text-align: right;\">\n",
       "      <th></th>\n",
       "      <th>ID_code</th>\n",
       "      <th>var_0</th>\n",
       "      <th>var_1</th>\n",
       "      <th>var_2</th>\n",
       "      <th>var_3</th>\n",
       "      <th>var_4</th>\n",
       "      <th>var_5</th>\n",
       "      <th>var_6</th>\n",
       "      <th>var_7</th>\n",
       "      <th>var_8</th>\n",
       "      <th>...</th>\n",
       "      <th>var_190</th>\n",
       "      <th>var_191</th>\n",
       "      <th>var_192</th>\n",
       "      <th>var_193</th>\n",
       "      <th>var_194</th>\n",
       "      <th>var_195</th>\n",
       "      <th>var_196</th>\n",
       "      <th>var_197</th>\n",
       "      <th>var_198</th>\n",
       "      <th>var_199</th>\n",
       "    </tr>\n",
       "  </thead>\n",
       "  <tbody>\n",
       "    <tr>\n",
       "      <th>0</th>\n",
       "      <td>test_0</td>\n",
       "      <td>11.066</td>\n",
       "      <td>7.780</td>\n",
       "      <td>12.954</td>\n",
       "      <td>9.429</td>\n",
       "      <td>11.433</td>\n",
       "      <td>-2.381</td>\n",
       "      <td>5.849</td>\n",
       "      <td>18.267</td>\n",
       "      <td>2.134</td>\n",
       "      <td>...</td>\n",
       "      <td>-2.156</td>\n",
       "      <td>11.850</td>\n",
       "      <td>-1.430</td>\n",
       "      <td>2.451</td>\n",
       "      <td>13.711</td>\n",
       "      <td>2.467</td>\n",
       "      <td>4.365</td>\n",
       "      <td>10.720</td>\n",
       "      <td>15.472</td>\n",
       "      <td>-8.720</td>\n",
       "    </tr>\n",
       "    <tr>\n",
       "      <th>1</th>\n",
       "      <td>test_1</td>\n",
       "      <td>8.530</td>\n",
       "      <td>1.254</td>\n",
       "      <td>11.305</td>\n",
       "      <td>5.186</td>\n",
       "      <td>9.197</td>\n",
       "      <td>-4.012</td>\n",
       "      <td>6.020</td>\n",
       "      <td>18.632</td>\n",
       "      <td>-4.413</td>\n",
       "      <td>...</td>\n",
       "      <td>10.617</td>\n",
       "      <td>8.835</td>\n",
       "      <td>0.940</td>\n",
       "      <td>10.128</td>\n",
       "      <td>15.576</td>\n",
       "      <td>0.477</td>\n",
       "      <td>-1.485</td>\n",
       "      <td>9.871</td>\n",
       "      <td>19.129</td>\n",
       "      <td>-20.976</td>\n",
       "    </tr>\n",
       "    <tr>\n",
       "      <th>2</th>\n",
       "      <td>test_2</td>\n",
       "      <td>5.483</td>\n",
       "      <td>-10.358</td>\n",
       "      <td>10.141</td>\n",
       "      <td>7.048</td>\n",
       "      <td>10.263</td>\n",
       "      <td>9.805</td>\n",
       "      <td>4.895</td>\n",
       "      <td>20.254</td>\n",
       "      <td>1.523</td>\n",
       "      <td>...</td>\n",
       "      <td>-0.748</td>\n",
       "      <td>10.993</td>\n",
       "      <td>1.980</td>\n",
       "      <td>2.180</td>\n",
       "      <td>12.981</td>\n",
       "      <td>2.128</td>\n",
       "      <td>-7.109</td>\n",
       "      <td>7.062</td>\n",
       "      <td>19.896</td>\n",
       "      <td>-23.179</td>\n",
       "    </tr>\n",
       "    <tr>\n",
       "      <th>3</th>\n",
       "      <td>test_3</td>\n",
       "      <td>8.537</td>\n",
       "      <td>-1.322</td>\n",
       "      <td>12.022</td>\n",
       "      <td>6.575</td>\n",
       "      <td>8.846</td>\n",
       "      <td>3.174</td>\n",
       "      <td>4.940</td>\n",
       "      <td>20.566</td>\n",
       "      <td>3.376</td>\n",
       "      <td>...</td>\n",
       "      <td>9.570</td>\n",
       "      <td>9.077</td>\n",
       "      <td>1.658</td>\n",
       "      <td>3.581</td>\n",
       "      <td>15.187</td>\n",
       "      <td>3.166</td>\n",
       "      <td>3.957</td>\n",
       "      <td>9.229</td>\n",
       "      <td>13.017</td>\n",
       "      <td>-4.211</td>\n",
       "    </tr>\n",
       "    <tr>\n",
       "      <th>4</th>\n",
       "      <td>test_4</td>\n",
       "      <td>11.706</td>\n",
       "      <td>-0.133</td>\n",
       "      <td>14.130</td>\n",
       "      <td>7.751</td>\n",
       "      <td>9.104</td>\n",
       "      <td>-8.585</td>\n",
       "      <td>6.859</td>\n",
       "      <td>10.605</td>\n",
       "      <td>2.989</td>\n",
       "      <td>...</td>\n",
       "      <td>4.226</td>\n",
       "      <td>9.172</td>\n",
       "      <td>1.284</td>\n",
       "      <td>3.378</td>\n",
       "      <td>19.554</td>\n",
       "      <td>-0.286</td>\n",
       "      <td>-5.161</td>\n",
       "      <td>7.288</td>\n",
       "      <td>13.926</td>\n",
       "      <td>-9.185</td>\n",
       "    </tr>\n",
       "  </tbody>\n",
       "</table>\n",
       "<p>5 rows × 201 columns</p>\n",
       "</div>"
      ],
      "text/plain": [
       "  ID_code  var_0   var_1  var_2  var_3  var_4  var_5  var_6  var_7  var_8  \\\n",
       "0  test_0 11.066   7.780 12.954  9.429 11.433 -2.381  5.849 18.267  2.134   \n",
       "1  test_1  8.530   1.254 11.305  5.186  9.197 -4.012  6.020 18.632 -4.413   \n",
       "2  test_2  5.483 -10.358 10.141  7.048 10.263  9.805  4.895 20.254  1.523   \n",
       "3  test_3  8.537  -1.322 12.022  6.575  8.846  3.174  4.940 20.566  3.376   \n",
       "4  test_4 11.706  -0.133 14.130  7.751  9.104 -8.585  6.859 10.605  2.989   \n",
       "\n",
       "    ...     var_190  var_191  var_192  var_193  var_194  var_195  var_196  \\\n",
       "0   ...      -2.156   11.850   -1.430    2.451   13.711    2.467    4.365   \n",
       "1   ...      10.617    8.835    0.940   10.128   15.576    0.477   -1.485   \n",
       "2   ...      -0.748   10.993    1.980    2.180   12.981    2.128   -7.109   \n",
       "3   ...       9.570    9.077    1.658    3.581   15.187    3.166    3.957   \n",
       "4   ...       4.226    9.172    1.284    3.378   19.554   -0.286   -5.161   \n",
       "\n",
       "   var_197  var_198  var_199  \n",
       "0   10.720   15.472   -8.720  \n",
       "1    9.871   19.129  -20.976  \n",
       "2    7.062   19.896  -23.179  \n",
       "3    9.229   13.017   -4.211  \n",
       "4    7.288   13.926   -9.185  \n",
       "\n",
       "[5 rows x 201 columns]"
      ]
     },
     "execution_count": 3,
     "metadata": {},
     "output_type": "execute_result"
    }
   ],
   "source": [
    "test1 = pd.read_csv('C:\\\\Users\\\\Surya\\\\Desktop\\\\santander-customer-transaction-prediction\\\\test.csv') \n",
    "test1.head(5)"
   ]
  },
  {
   "cell_type": "code",
   "execution_count": 5,
   "metadata": {
    "collapsed": true
   },
   "outputs": [],
   "source": [
    "y= train1[\"target\"]\n",
    "id = test1[\"ID_code\"]"
   ]
  },
  {
   "cell_type": "code",
   "execution_count": 6,
   "metadata": {
    "collapsed": false
   },
   "outputs": [
    {
     "data": {
      "text/plain": [
       "ID_code    0\n",
       "var_0      0\n",
       "var_1      0\n",
       "var_2      0\n",
       "var_3      0\n",
       "var_4      0\n",
       "var_5      0\n",
       "var_6      0\n",
       "var_7      0\n",
       "var_8      0\n",
       "var_9      0\n",
       "var_10     0\n",
       "var_11     0\n",
       "var_12     0\n",
       "var_13     0\n",
       "var_14     0\n",
       "var_15     0\n",
       "var_16     0\n",
       "var_17     0\n",
       "var_18     0\n",
       "var_19     0\n",
       "var_20     0\n",
       "var_21     0\n",
       "var_22     0\n",
       "var_23     0\n",
       "var_24     0\n",
       "var_25     0\n",
       "var_26     0\n",
       "var_27     0\n",
       "var_28     0\n",
       "          ..\n",
       "var_170    0\n",
       "var_171    0\n",
       "var_172    0\n",
       "var_173    0\n",
       "var_174    0\n",
       "var_175    0\n",
       "var_176    0\n",
       "var_177    0\n",
       "var_178    0\n",
       "var_179    0\n",
       "var_180    0\n",
       "var_181    0\n",
       "var_182    0\n",
       "var_183    0\n",
       "var_184    0\n",
       "var_185    0\n",
       "var_186    0\n",
       "var_187    0\n",
       "var_188    0\n",
       "var_189    0\n",
       "var_190    0\n",
       "var_191    0\n",
       "var_192    0\n",
       "var_193    0\n",
       "var_194    0\n",
       "var_195    0\n",
       "var_196    0\n",
       "var_197    0\n",
       "var_198    0\n",
       "var_199    0\n",
       "Length: 201, dtype: int64"
      ]
     },
     "execution_count": 6,
     "metadata": {},
     "output_type": "execute_result"
    }
   ],
   "source": [
    "test1.isnull().sum()"
   ]
  },
  {
   "cell_type": "code",
   "execution_count": 7,
   "metadata": {
    "collapsed": false
   },
   "outputs": [
    {
     "data": {
      "text/plain": [
       "ID_code    0\n",
       "target     0\n",
       "var_0      0\n",
       "var_1      0\n",
       "var_2      0\n",
       "var_3      0\n",
       "var_4      0\n",
       "var_5      0\n",
       "var_6      0\n",
       "var_7      0\n",
       "var_8      0\n",
       "var_9      0\n",
       "var_10     0\n",
       "var_11     0\n",
       "var_12     0\n",
       "var_13     0\n",
       "var_14     0\n",
       "var_15     0\n",
       "var_16     0\n",
       "var_17     0\n",
       "var_18     0\n",
       "var_19     0\n",
       "var_20     0\n",
       "var_21     0\n",
       "var_22     0\n",
       "var_23     0\n",
       "var_24     0\n",
       "var_25     0\n",
       "var_26     0\n",
       "var_27     0\n",
       "          ..\n",
       "var_170    0\n",
       "var_171    0\n",
       "var_172    0\n",
       "var_173    0\n",
       "var_174    0\n",
       "var_175    0\n",
       "var_176    0\n",
       "var_177    0\n",
       "var_178    0\n",
       "var_179    0\n",
       "var_180    0\n",
       "var_181    0\n",
       "var_182    0\n",
       "var_183    0\n",
       "var_184    0\n",
       "var_185    0\n",
       "var_186    0\n",
       "var_187    0\n",
       "var_188    0\n",
       "var_189    0\n",
       "var_190    0\n",
       "var_191    0\n",
       "var_192    0\n",
       "var_193    0\n",
       "var_194    0\n",
       "var_195    0\n",
       "var_196    0\n",
       "var_197    0\n",
       "var_198    0\n",
       "var_199    0\n",
       "Length: 202, dtype: int64"
      ]
     },
     "execution_count": 7,
     "metadata": {},
     "output_type": "execute_result"
    }
   ],
   "source": [
    "train1.isnull().sum()"
   ]
  },
  {
   "cell_type": "code",
   "execution_count": 9,
   "metadata": {
    "collapsed": false
   },
   "outputs": [
    {
     "name": "stdout",
     "output_type": "stream",
     "text": [
      "(target    1.000\n",
      "var_6     0.067\n",
      "var_110   0.064\n",
      "var_53    0.063\n",
      "var_26    0.062\n",
      "var_22    0.061\n",
      "var_99    0.058\n",
      "var_190   0.056\n",
      "var_2     0.056\n",
      "var_133   0.055\n",
      "var_0     0.052\n",
      "var_1     0.050\n",
      "var_179   0.050\n",
      "var_40    0.050\n",
      "var_184   0.048\n",
      "Name: target, dtype: float64, '\\n')\n",
      "----------------------\n",
      "var_76    -0.062\n",
      "var_146   -0.064\n",
      "var_12    -0.069\n",
      "var_139   -0.074\n",
      "var_81    -0.081\n",
      "Name: target, dtype: float64\n"
     ]
    }
   ],
   "source": [
    "print (corr['target'].sort_values(ascending=False)[:15], '\\n') #top 15 values\n",
    "print ('----------------------')\n",
    "print (corr['target'].sort_values(ascending=False)[-5:]) #last 5 values`"
   ]
  },
  {
   "cell_type": "code",
   "execution_count": 10,
   "metadata": {
    "collapsed": false
   },
   "outputs": [
    {
     "data": {
      "text/plain": [
       "float64    200\n",
       "int64        1\n",
       "object       1\n",
       "dtype: int64"
      ]
     },
     "execution_count": 10,
     "metadata": {},
     "output_type": "execute_result"
    }
   ],
   "source": [
    "train1.get_dtype_counts()"
   ]
  },
  {
   "cell_type": "code",
   "execution_count": 6,
   "metadata": {
    "collapsed": false
   },
   "outputs": [],
   "source": [
    "\n",
    "train1.drop([\"ID_code\", \"target\"], axis=1, inplace=True)\n",
    "test1.drop([\"ID_code\"], axis=1, inplace=True)"
   ]
  },
  {
   "cell_type": "code",
   "execution_count": 7,
   "metadata": {
    "collapsed": false
   },
   "outputs": [
    {
     "data": {
      "text/plain": [
       "array([[-0.57710174, -1.27373702,  0.45170728, ..., -0.37396811,\n",
       "        -1.02639785,  0.21413482],\n",
       "       [ 0.26995857, -0.62213756,  1.19036045, ..., -0.12939961,\n",
       "         0.82541712,  0.50568523],\n",
       "       [-0.68111341, -0.2760664 ,  0.51698836, ..., -0.69514059,\n",
       "        -0.38144932,  0.35668144],\n",
       "       ...,\n",
       "       [ 0.17870987, -0.84546901, -0.07667568, ..., -0.20904171,\n",
       "        -0.67680579,  0.72102365],\n",
       "       [-0.31746727, -1.72398014,  1.09630117, ...,  1.22180338,\n",
       "        -0.11352617, -1.01298853],\n",
       "       [ 0.06456676, -1.00810962,  0.53130173, ..., -0.78389704,\n",
       "        -1.24290845,  0.33196403]])"
      ]
     },
     "execution_count": 7,
     "metadata": {},
     "output_type": "execute_result"
    }
   ],
   "source": [
    "from sklearn import preprocessing\n",
    "from sklearn.preprocessing import StandardScaler\n",
    "import numpy as np\n",
    "X_scaled = preprocessing.scale(train1)\n",
    "X_scaled"
   ]
  },
  {
   "cell_type": "code",
   "execution_count": 8,
   "metadata": {
    "collapsed": false
   },
   "outputs": [
    {
     "data": {
      "text/plain": [
       "array([[ 0.13398157,  2.32744611,  0.85278996, ...,  1.96282758,\n",
       "        -0.13194481, -0.52635716],\n",
       "       [-0.70086986,  0.71242283,  0.22675581, ...,  1.04133974,\n",
       "         1.08355968, -1.70501041],\n",
       "       [-1.70448957, -2.16157859, -0.21517745, ..., -2.00958206,\n",
       "         1.33825359, -1.91690508],\n",
       "       ...,\n",
       "       [ 0.32181655,  0.96551038,  0.18981414, ...,  0.30499646,\n",
       "        -1.35562556, -1.83004692],\n",
       "       [ 0.9601723 ,  0.27492737,  1.12037979, ..., -0.87363057,\n",
       "        -2.35838103,  0.29178474],\n",
       "       [-0.06333737,  0.84921287, -0.18214635, ...,  1.54779971,\n",
       "        -0.51024652, -0.4291995 ]])"
      ]
     },
     "execution_count": 8,
     "metadata": {},
     "output_type": "execute_result"
    }
   ],
   "source": [
    "X_scaled2 = preprocessing.scale(test1)\n",
    "X_scaled2"
   ]
  },
  {
   "cell_type": "code",
   "execution_count": 9,
   "metadata": {
    "collapsed": true
   },
   "outputs": [],
   "source": [
    "%matplotlib inline"
   ]
  },
  {
   "cell_type": "code",
   "execution_count": 10,
   "metadata": {
    "collapsed": true
   },
   "outputs": [],
   "source": [
    "from sklearn.decomposition import PCA\n",
    "pca = PCA(n_components=2)\n",
    "principalComponents = pca.fit_transform(X_scaled)\n",
    "principalDf = pd.DataFrame(data = principalComponents\n",
    "             , columns = ['principal component 1', 'principal component 2'])"
   ]
  },
  {
   "cell_type": "code",
   "execution_count": 12,
   "metadata": {
    "collapsed": true
   },
   "outputs": [],
   "source": [
    "from sklearn.decomposition import PCA\n",
    "pca1 = PCA(n_components=2)\n",
    "principalComponents1 = pca1.fit_transform(X_scaled2)\n",
    "principalDff = pd.DataFrame(data = principalComponents1\n",
    "             , columns = ['principal component 1', 'principal component 2'])"
   ]
  },
  {
   "cell_type": "code",
   "execution_count": 13,
   "metadata": {
    "collapsed": true
   },
   "outputs": [],
   "source": [
    "y_train = y\n",
    "X_train = X_scaled\n",
    "X_test1 = X_scaled2\n",
    "y_test = y"
   ]
  },
  {
   "cell_type": "code",
   "execution_count": 14,
   "metadata": {
    "collapsed": false
   },
   "outputs": [],
   "source": [
    "\n",
    "from sklearn.linear_model import LogisticRegression\n",
    "\n",
    "# instantiate the model (using the default parameters)\n",
    "logreg = LogisticRegression()\n",
    "\n",
    "# fit the model with data\n",
    "logreg.fit(X_train,y_train)\n",
    "\n",
    "#\n",
    "y_pred=logreg.predict(X_test1)"
   ]
  },
  {
   "cell_type": "code",
   "execution_count": 15,
   "metadata": {
    "collapsed": false
   },
   "outputs": [
    {
     "data": {
      "text/plain": [
       "array([0, 0, 0, ..., 0, 0, 0], dtype=int64)"
      ]
     },
     "execution_count": 15,
     "metadata": {},
     "output_type": "execute_result"
    }
   ],
   "source": [
    "y_pred"
   ]
  },
  {
   "cell_type": "code",
   "execution_count": 16,
   "metadata": {
    "collapsed": false
   },
   "outputs": [
    {
     "data": {
      "text/plain": [
       "array([[174407,   5495],\n",
       "       [ 19475,    623]], dtype=int64)"
      ]
     },
     "execution_count": 16,
     "metadata": {},
     "output_type": "execute_result"
    }
   ],
   "source": [
    "from sklearn import metrics\n",
    "cnf_matrix1 = metrics.confusion_matrix(y_test, y_pred)\n",
    "cnf_matrix1"
   ]
  },
  {
   "cell_type": "code",
   "execution_count": 17,
   "metadata": {
    "collapsed": false
   },
   "outputs": [
    {
     "name": "stdout",
     "output_type": "stream",
     "text": [
      "('Accuracy:', 0.87515)\n",
      "('Precision:', 0.10183066361556065)\n",
      "('Recall:', 0.030998109264603443)\n"
     ]
    }
   ],
   "source": [
    "print(\"Accuracy:\",metrics.accuracy_score(y_test, y_pred))\n",
    "print(\"Precision:\",metrics.precision_score(y_test, y_pred))\n",
    "print(\"Recall:\",metrics.recall_score(y_test, y_pred))"
   ]
  },
  {
   "cell_type": "code",
   "execution_count": 13,
   "metadata": {
    "collapsed": false
   },
   "outputs": [],
   "source": [
    "##submission\n",
    "sub_df = pd.DataFrame({\"ID_code\":id})\n",
    "sub_df[\"target\"] = y_pred\n",
    "sub_df.to_csv(\"sub4.csv\", index=False)"
   ]
  },
  {
   "cell_type": "code",
   "execution_count": 18,
   "metadata": {
    "collapsed": false
   },
   "outputs": [
    {
     "data": {
      "text/plain": [
       "MLPClassifier(activation='relu', alpha=1e-05, batch_size='auto', beta_1=0.9,\n",
       "       beta_2=0.999, early_stopping=False, epsilon=1e-08,\n",
       "       hidden_layer_sizes=(5, 2), learning_rate='constant',\n",
       "       learning_rate_init=0.001, max_iter=200, momentum=0.9,\n",
       "       n_iter_no_change=10, nesterovs_momentum=True, power_t=0.5,\n",
       "       random_state=1, shuffle=True, solver='lbfgs', tol=0.0001,\n",
       "       validation_fraction=0.1, verbose=False, warm_start=False)"
      ]
     },
     "execution_count": 18,
     "metadata": {},
     "output_type": "execute_result"
    }
   ],
   "source": [
    "from sklearn.neural_network import MLPClassifier\n",
    "clf = MLPClassifier(solver='lbfgs', alpha=1e-5,\n",
    "                    hidden_layer_sizes=(5, 2), random_state=1)\n",
    "\n",
    "clf.fit(X_train,y_train)                         \n",
    "MLPClassifier(activation='relu', alpha=1e-05, batch_size='auto',\n",
    "              beta_1=0.9, beta_2=0.999, early_stopping=False,\n",
    "              epsilon=1e-08, hidden_layer_sizes=(5, 2),\n",
    "              learning_rate='constant', learning_rate_init=0.001,\n",
    "              max_iter=200, momentum=0.9, n_iter_no_change=10,\n",
    "              nesterovs_momentum=True, power_t=0.5, random_state=1,\n",
    "              shuffle=True, solver='lbfgs', tol=0.0001,\n",
    "              validation_fraction=0.1, verbose=False, warm_start=False)"
   ]
  },
  {
   "cell_type": "code",
   "execution_count": 29,
   "metadata": {
    "collapsed": false
   },
   "outputs": [
    {
     "data": {
      "text/plain": [
       "array([0, 0, 0, ..., 0, 0, 0], dtype=int64)"
      ]
     },
     "execution_count": 29,
     "metadata": {},
     "output_type": "execute_result"
    }
   ],
   "source": [
    "ypred = clf.predict(X_test1)\n",
    "ypred"
   ]
  },
  {
   "cell_type": "code",
   "execution_count": 20,
   "metadata": {
    "collapsed": false
   },
   "outputs": [
    {
     "data": {
      "text/plain": [
       "[(200L, 5L), (5L, 2L), (2L, 1L)]"
      ]
     },
     "execution_count": 20,
     "metadata": {},
     "output_type": "execute_result"
    }
   ],
   "source": [
    "[coef.shape for coef in clf.coefs_]\n"
   ]
  },
  {
   "cell_type": "code",
   "execution_count": 22,
   "metadata": {
    "collapsed": false
   },
   "outputs": [
    {
     "name": "stdout",
     "output_type": "stream",
     "text": [
      "[[174127   5775]\n",
      " [ 19449    649]]\n"
     ]
    }
   ],
   "source": [
    "from sklearn.metrics import confusion_matrix\n",
    "confusion_matrix = confusion_matrix(y_test, ypred)\n",
    "print(confusion_matrix)"
   ]
  },
  {
   "cell_type": "code",
   "execution_count": 23,
   "metadata": {
    "collapsed": false
   },
   "outputs": [
    {
     "name": "stdout",
     "output_type": "stream",
     "text": [
      "              precision    recall  f1-score   support\n",
      "\n",
      "           0       0.90      0.97      0.93    179902\n",
      "           1       0.10      0.03      0.05     20098\n",
      "\n",
      "   micro avg       0.87      0.87      0.87    200000\n",
      "   macro avg       0.50      0.50      0.49    200000\n",
      "weighted avg       0.82      0.87      0.84    200000\n",
      "\n"
     ]
    }
   ],
   "source": [
    "from sklearn.metrics import classification_report\n",
    "print(classification_report(y_test, ypred))"
   ]
  },
  {
   "cell_type": "code",
   "execution_count": 25,
   "metadata": {
    "collapsed": false
   },
   "outputs": [
    {
     "name": "stdout",
     "output_type": "stream",
     "text": [
      "MLP classifier on test set: 0.88\n"
     ]
    }
   ],
   "source": [
    "\n",
    "print('MLP classifier on test set: {:.2f}'.format(logreg.score(X_test1, y_test)))"
   ]
  },
  {
   "cell_type": "code",
   "execution_count": null,
   "metadata": {
    "collapsed": true
   },
   "outputs": [],
   "source": []
  },
  {
   "cell_type": "code",
   "execution_count": 26,
   "metadata": {
    "collapsed": true
   },
   "outputs": [],
   "source": [
    "##submission\n",
    "sub_df = pd.DataFrame({\"ID_code\":id})\n",
    "sub_df[\"target\"] = ypred\n",
    "sub_df.to_csv(\"sub6.csv\", index=False)"
   ]
  },
  {
   "cell_type": "code",
   "execution_count": 27,
   "metadata": {
    "collapsed": false
   },
   "outputs": [
    {
     "name": "stdout",
     "output_type": "stream",
     "text": [
      "Results Using Gini Index:\n",
      "Predicted values:\n",
      "[0 0 0 ... 0 0 0]\n",
      "('Confusion Matrix: ', array([[179902,      0],\n",
      "       [ 20098,      0]], dtype=int64))\n",
      "('Accuracy : ', 89.95100000000001)\n",
      "('Report : ', u'              precision    recall  f1-score   support\\n\\n           0       0.90      1.00      0.95    179902\\n           1       0.00      0.00      0.00     20098\\n\\n   micro avg       0.90      0.90      0.90    200000\\n   macro avg       0.45      0.50      0.47    200000\\nweighted avg       0.81      0.90      0.85    200000\\n')\n",
      "Results Using Entropy:\n",
      "Predicted values:\n",
      "[0 0 0 ... 0 0 0]\n",
      "('Confusion Matrix: ', array([[179743,    159],\n",
      "       [ 20082,     16]], dtype=int64))\n",
      "('Accuracy : ', 89.87950000000001)\n",
      "('Report : ', u'              precision    recall  f1-score   support\\n\\n           0       0.90      1.00      0.95    179902\\n           1       0.09      0.00      0.00     20098\\n\\n   micro avg       0.90      0.90      0.90    200000\\n   macro avg       0.50      0.50      0.47    200000\\nweighted avg       0.82      0.90      0.85    200000\\n')\n"
     ]
    }
   ],
   "source": [
    "# Importing the required packages \n",
    "import numpy as np \n",
    "import pandas as pd \n",
    "from sklearn.metrics import confusion_matrix \n",
    "#from sklearn.cross_validation import train_test_split \n",
    "from sklearn.tree import DecisionTreeClassifier \n",
    "from sklearn.metrics import accuracy_score \n",
    "from sklearn.metrics import classification_report \n",
    "  \n",
    "\n",
    "       \n",
    "# Function to perform training with giniIndex. \n",
    "def train_using_gini(X_train, X_test1, y_train): \n",
    "  \n",
    "    # Creating the classifier object \n",
    "    clf_gini = DecisionTreeClassifier(criterion = \"gini\", \n",
    "            random_state = 100,max_depth=3, min_samples_leaf=5) \n",
    "  \n",
    "    # Performing training \n",
    "    clf_gini.fit(X_train, y_train) \n",
    "    return clf_gini \n",
    "      \n",
    "# Function to perform training with entropy. \n",
    "def tarin_using_entropy(X_train, X_test1, y_train): \n",
    "  \n",
    "    # Decision tree with entropy \n",
    "    clf_entropy = DecisionTreeClassifier( \n",
    "            criterion = \"entropy\", random_state = 100, \n",
    "            max_depth = 3, min_samples_leaf = 5) \n",
    "  \n",
    "    # Performing training \n",
    "    clf_entropy.fit(X_train, y_train) \n",
    "    return clf_entropy \n",
    "  \n",
    "  \n",
    "# Function to make predictions \n",
    "def prediction(X_test1, clf_object): \n",
    "  \n",
    "    # Predicton on test with giniIndex \n",
    "    y_pred = clf_object.predict(X_test1) \n",
    "    print(\"Predicted values:\") \n",
    "    print(y_pred) \n",
    "    return y_pred \n",
    "      \n",
    "# Function to calculate accuracy \n",
    "def cal_accuracy(y_test, y_pred): \n",
    "      \n",
    "    print(\"Confusion Matrix: \", \n",
    "        confusion_matrix(y_test, y_pred)) \n",
    "      \n",
    "    print (\"Accuracy : \", \n",
    "    accuracy_score(y_test,y_pred)*100) \n",
    "      \n",
    "    print(\"Report : \", \n",
    "    classification_report(y_test, y_pred)) \n",
    "  \n",
    "# Driver code \n",
    "def main(): \n",
    "      \n",
    "     \n",
    "    clf_gini = train_using_gini(X_train, X_test1, y_train) \n",
    "    clf_entropy = tarin_using_entropy(X_train, X_test1, y_train) \n",
    "      \n",
    "    # Operational Phase \n",
    "    print(\"Results Using Gini Index:\") \n",
    "      \n",
    "    # Prediction using gini \n",
    "    y_pred_gini = prediction(X_test1, clf_gini) \n",
    "    cal_accuracy(y_test, y_pred_gini) \n",
    "      \n",
    "    print(\"Results Using Entropy:\") \n",
    "    # Prediction using entropy \n",
    "    y_pred_entropy = prediction(X_test1, clf_entropy) \n",
    "    cal_accuracy(y_test, y_pred_entropy) \n",
    "      \n",
    "      \n",
    "# Calling main function \n",
    "if __name__==\"__main__\": \n",
    "    main() "
   ]
  },
  {
   "cell_type": "code",
   "execution_count": 28,
   "metadata": {
    "collapsed": true
   },
   "outputs": [],
   "source": [
    "##submission\n",
    "sub_df = pd.DataFrame({\"ID_code\":id})\n",
    "sub_df[\"target\"] = ypred\n",
    "sub_df.to_csv(\"sub7.csv\", index=False)"
   ]
  }
 ],
 "metadata": {
  "kernelspec": {
   "display_name": "Python 2",
   "language": "python",
   "name": "python2"
  },
  "language_info": {
   "codemirror_mode": {
    "name": "ipython",
    "version": 2
   },
   "file_extension": ".py",
   "mimetype": "text/x-python",
   "name": "python",
   "nbconvert_exporter": "python",
   "pygments_lexer": "ipython2",
   "version": "2.7.13"
  }
 },
 "nbformat": 4,
 "nbformat_minor": 2
}
